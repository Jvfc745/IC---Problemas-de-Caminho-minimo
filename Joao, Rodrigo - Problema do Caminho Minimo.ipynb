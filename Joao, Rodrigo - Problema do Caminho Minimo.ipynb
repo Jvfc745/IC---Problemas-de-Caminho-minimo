{
  "cells": [
    {
      "cell_type": "markdown",
      "metadata": {
        "id": "lj3T5VXp6pbR"
      },
      "source": [
        "# PROBLEMA DO CAMINHO MÍNIMO\n"
      ]
    },
    {
      "cell_type": "markdown",
      "metadata": {
        "id": "2w7L6Cep6qOq"
      },
      "source": [
        "O _Problema do Caminho Mínimo_ é o seguinte: dados um grafo ponderado (com pesos, ou distâncias) e dois de seus vértices, encontrar o caminho nesse grafo que ligue os dois vértices dados e tenha o menor peso (ou distância) total possível.  Uma descrição mais detalhada, incluindo definições e exemplos dos conceitos necessários para entender esse problema, está contida nas notas <a href=\"https://github.com/Jvfc745/IC---Problemas-de-Caminho-minimo/blob/4eebbdba79f21bc0d4b9bb949cb663c7e6c9fe53/Joao%2C%20Rodrigo%20-%20Problema%20do%20caminho%20minimo.pdf\">Problema do Caminho Mínimo</a>.\n",
        "\n",
        "Nesse _notebook_, serão apresentadas implementações comentadas de três algoritmos usados para resolver esse problema: _Busca Exaustiva_, uma _heurística gulosa_, e o _Algoritmo de Dijkstra_.\n"
      ]
    },
    {
      "cell_type": "markdown",
      "metadata": {
        "id": "DHnewb8P6k_x"
      },
      "source": [
        "## Bibliotecas\n",
        "\n",
        "Para começar, vamos carregar as duas bibliotecas do ``Python`` que serão usadas nesse _notebook_.  A primeira delas, ``heapq``, será usada no Algoritmo de Dijkstra para criar listas de prioridades. A segunda, ``time``, será usada nos três algoritmos para calcular os seus tempos de execução.\n"
      ]
    },
    {
      "cell_type": "code",
      "execution_count": null,
      "metadata": {
        "id": "zofbDRBZ6Qo4"
      },
      "outputs": [],
      "source": [
        "import heapq\n",
        "import time\n"
      ]
    },
    {
      "cell_type": "markdown",
      "metadata": {
        "id": "AgzKtrO76FP7"
      },
      "source": [
        "## Implementações dos algoritmos\n"
      ]
    },
    {
      "cell_type": "markdown",
      "source": [
        "Essa é uma função auxiliar, que será usada para verificar se existe algum caminho entre dois vértices de um grafo.  Concretamente, ela constrói o conjunto de todos os vértices que estão conectados ao vértice-base, ou seja, a <a href=\"http://en.wikipedia.org/wiki/Connectivity_(graph_theory)#Components_and_cuts\">componente conexa</a> do vértice-base no grafo.\n"
      ],
      "metadata": {
        "id": "RilCGQBhhLb0"
      }
    },
    {
      "cell_type": "code",
      "execution_count": null,
      "metadata": {
        "id": "71pvxVlwx_qf"
      },
      "outputs": [],
      "source": [
        "def componente_conexa (grafo, vertice_base):\n",
        "    if vertice_base in grafo:\n",
        "        componente_conexa = set()\n",
        "        vizinhos = {vertice_base}\n",
        "\n",
        "        while componente_conexa != vizinhos:\n",
        "            componente_conexa = vizinhos.copy()\n",
        "            for vertice in componente_conexa:\n",
        "                vizinhos.update(grafo[vertice])\n",
        "\n",
        "        return componente_conexa\n",
        "\n",
        "    else:\n",
        "        print(f\"O vértice {vertice_base} não pertence ao grafo.\")\n",
        "        return None\n"
      ]
    },
    {
      "cell_type": "markdown",
      "source": [
        "### **Busca Exaustiva**\n",
        "\n",
        "O primeiro algoritmo para calcular o caminho mínimo entre dois vértices de um grafo consiste em construir todos os caminhos possíveis entre um _vértice inicial_ e um _vértice final_, e depois escolher o caminho que tem menor peso (distância).  Como esse algoritmo busca o caminho mínimo dentre todos os possíveis caminhos, ele é chamado de _Busca Exaustiva_.\n"
      ],
      "metadata": {
        "id": "sZ2QnmP0qP2K"
      }
    },
    {
      "cell_type": "code",
      "execution_count": null,
      "metadata": {
        "id": "wUn0uuRfVkb5"
      },
      "outputs": [],
      "source": [
        "def busca_exaustiva (grafo, vertice_inicial, vertice_final):\n",
        "    \"\"\"\n",
        "    Busca exaustiva: dado um grafo ponderado e dois de seus vértices, realiza\n",
        "    uma busca exaustiva para encontrar o caminho mínimo entre esses vértices.\n",
        "\n",
        "    Parâmetros:\n",
        "    - grafo (dict): Um dicionário representando o grafo, onde as chaves são os\n",
        "      vértices e os valores são listas de vértices vizinhos e suas distâncias.\n",
        "    - vertice_inicial: O vértice de partida para a busca.\n",
        "    - vertice_final: O vértice de destino para a busca.\n",
        "\n",
        "    Retorna: uma tupla contendo:\n",
        "    - caminho_minimo (list): uma lista representando o caminho mínimo entre o\n",
        "       vértice inicial e o vértice final.\n",
        "    - menor_distância (float): um número representando o comprimento total do\n",
        "      caminho mínimo.\n",
        "    - tempo_execucao (float): um número representando o tempo total de\n",
        "      execução do algoritmo.\n",
        "\n",
        "    Complexidade: O(d^|V|), d é o grau do grafo e |V| é o número de vértices\n",
        "      do grafo dado.\n",
        "    \"\"\"\n",
        "\n",
        "    # Validações básicas\n",
        "    if not componente_conexa(grafo, vertice_inicial):\n",
        "        return None, None, None\n",
        "    elif vertice_final not in grafo:\n",
        "        print(f\"O vértice final {vertice_final} não pertence ao grafo.\")\n",
        "        return None, None, None\n",
        "    elif vertice_final not in componente_conexa(grafo, vertice_inicial):\n",
        "        return None, None, None\n",
        "    #else: como os dois vértices pertencem ao grafo dado e como existe um\n",
        "    #  caminho entre o vértice inicial e o vértice final, continuamos...\n",
        "\n",
        "    # Horário do início do algoritmo\n",
        "    horario_inicio = time.time()\n",
        "\n",
        "    # Lista que vai guardar os caminhos já construídos e seus comprimentos.\n",
        "    lista = []\n",
        "\n",
        "    # Lista que vai guardar os caminhos expandidos. Inicializamos essa lista\n",
        "    # só com o vértice inicial, que é como se fosse uma expansão da lista\n",
        "    # vazia.\n",
        "    nova_lista = [{'caminho': [vertice_inicial], 'comprimento': 0}]\n",
        "\n",
        "    # Enquanto os caminhos ainda puderem ser expandidos:\n",
        "    while nova_lista != lista:\n",
        "        # Atualizamos a lista de caminhos já construídos\n",
        "        lista = nova_lista\n",
        "\n",
        "        # Construímos uma nova lista de caminhos expandidos\n",
        "        nova_lista = []\n",
        "\n",
        "        for elemento in lista:\n",
        "            novos_elementos = expandir_caminho(grafo, vertice_final, elemento['caminho'], elemento['comprimento'])\n",
        "            nova_lista += [{'caminho': caminho, 'comprimento': comprimento}  for caminho, comprimento in novos_elementos]\n",
        "\n",
        "    # Quando os caminhos não puderem mais ser expandidos, calcular o caminho\n",
        "    # mínimo e seu comprimento\n",
        "    menor_distancia = min([item['comprimento']  for item in lista])\n",
        "    caminho_minimo = [item['caminho']  for item in lista if item['comprimento'] == menor_distancia][0]\n",
        "\n",
        "    # Calcular o tempo tota de execução do algoritmo\n",
        "    tempo_execucao = time.time() - horario_inicio\n",
        "\n",
        "    return caminho_minimo, menor_distancia, tempo_execucao\n",
        "\n",
        "\n",
        "def expandir_caminho(grafo, vertice_final, caminho, comprimento):\n",
        "    # Tomar o último vértice do caminho\n",
        "    ultimo_vertice = caminho[-1]\n",
        "\n",
        "    # Se o último vértice já for o vértice final, não precisa expandir\n",
        "    if ultimo_vertice == vertice_final:\n",
        "        return [(caminho, comprimento)]\n",
        "\n",
        "    # Se não, pegamos todos os vizinhos do último vértice que ainda não estão\n",
        "    # no caminho e expandimos o caminho inicial com cada um deles\n",
        "    else:\n",
        "        vizinhos_nao_visitados = {(vertice, distancia)  for vertice, distancia in grafo[ultimo_vertice].items() if vertice not in caminho}\n",
        "        caminhos_expandidos = [([*caminho, vertice], comprimento + distancia)  for vertice, distancia in vizinhos_nao_visitados]\n",
        "        return caminhos_expandidos\n"
      ]
    },
    {
      "cell_type": "markdown",
      "source": [
        "### **Heurística Gulosa**\n",
        "\n",
        "Observe que, como a Busca Exaustiva compara todos os caminhos entre os vértices inicial e final, seu custo computacional acaba crescendo rápido conforme o tamanho do grafo cresce.  Para atenuar isso, o próximo algoritmo abre mão de encontrar o caminho mínimo para ter um custo computacional menor.  Por isso, esse método é chamado de _heurístico_.\n"
      ],
      "metadata": {
        "id": "kCi0rM9bqS6x"
      }
    },
    {
      "cell_type": "code",
      "execution_count": null,
      "metadata": {
        "id": "vmphG4RRcEit"
      },
      "outputs": [],
      "source": [
        "def heuristica_gulosa (grafo, vertice_inicial, vertice_final):\n",
        "    \"\"\"\n",
        "    Heurística Gulosa: dados um grafo ponderado e dois vértices, essa função\n",
        "    encontra um caminho do vértice inicial até o vértice final que segue as\n",
        "    arestas de peso mínimo. (Esse caminho pode não ser o caminho mínimo!)\n",
        "\n",
        "    Parâmetros:\n",
        "    - grafo (dict): Dicionário de adjacências que representa o grafo\n",
        "      ponderado. As chaves são os vértices do grafo e os valores são\n",
        "      dicionários, cujas chaves são os vizinhos e os valores são os pesos das\n",
        "      arestas que ligam os vértices.\n",
        "    - vertice_inicial: Vértice inicial do caminho. Se esse vértice não\n",
        "      pertencer ao grafo, a função retorna None (e uma mensagem de erro).\n",
        "    - vertice_final: Vértice final do caminho. Se esse vértice não pertencer\n",
        "      ao grafo, a função retorna None (e uma mensagem de erro).\n",
        "\n",
        "    Saídas:\n",
        "    - caminho (list): Uma lista contendo os vértices do caminho encontrado.\n",
        "    - peso_total (float): Soma dos pesos das arestas do caminho encontrado.\n",
        "    - tempo_execucao (float): Tempo total de execução da heurística (em segs).\n",
        "\n",
        "    Complexidade: O(|V|^2 + |E|), onde |V| é o número de vértices e |E| é o\n",
        "      número de arestas do grafo dado.\n",
        "    \"\"\"\n",
        "\n",
        "    # Começo do cálculo do tempo de execução do algoritmo\n",
        "    horario_inicio = time.time()\n",
        "\n",
        "    # Validações básicas\n",
        "    if not componente_conexa(grafo, vertice_inicial):\n",
        "        return None, None, None\n",
        "    elif vertice_final not in grafo:\n",
        "        print(f\"O vértice final {vertice_final} não pertence ao grafo.\")\n",
        "        return None, None, None\n",
        "    elif vertice_final not in componente_conexa(grafo, vertice_inicial):\n",
        "        return None, None, None\n",
        "    #else: como os dois vértices pertencem ao grafo dado e como existe um\n",
        "    #  caminho entre o vértice inicial e o vértice final, continuamos...\n",
        "\n",
        "    # Preparação para o loop principal:\n",
        "    # - conjunto de vértices não visitados\n",
        "    nao_visitados = set(grafo)\n",
        "    # - lista que vai guardar o caminho do vértice inicial ao final\n",
        "    caminho = []\n",
        "    # - variável que vai guardar o peso total do caminho acima\n",
        "    peso_total = 0.0\n",
        "    # - vértice que estará sendo analisado em cada iteração do loop\n",
        "    vertice_atual = vertice_inicial\n",
        "\n",
        "    # Loop que só para quando chegamos ao vértice final, ou ...\n",
        "    while vertice_atual != vertice_final:\n",
        "        # Incluir o vértice atual ao caminho\n",
        "        caminho.append(vertice_atual)\n",
        "        # Remover o vértice atual do conjunto de vértices não visitados\n",
        "        nao_visitados.discard(vertice_atual)\n",
        "        # Dicionário contendo os vizinhos do vértice atual que ainda não foram\n",
        "        # visitados e os pesos das respectivas arestas\n",
        "        vizinhos_nao_visitados = {vizinho: peso  for vizinho, peso in grafo[vertice_atual].items() if vizinho in nao_visitados}\n",
        "\n",
        "        if vizinhos_nao_visitados:\n",
        "            # O vértice atual para a próxima iteração será o vizinho mais próximo\n",
        "            vertice_atual = min(vizinhos_nao_visitados, key=vizinhos_nao_visitados.get)\n",
        "            # Adicionar o tamanho da aresta ligando os vértices atuais ao peso total\n",
        "            peso_total += vizinhos_nao_visitados[vertice_atual]\n",
        "        else:\n",
        "            #TODO  Sugestão: ao invés de 'break', nós poderíamos dar um passo\n",
        "            #       atrás (voltar um vértice) e continuar tentando...\n",
        "            break\n",
        "\n",
        "    if vertice_atual == vertice_final:\n",
        "        # Incluir o último vértice no caminho\n",
        "        caminho.append(vertice_atual)\n",
        "\n",
        "        # Calcular o tempo total de execução do algoritmo\n",
        "        tempo_execucao = time.time() - horario_inicio\n",
        "\n",
        "        return caminho, peso_total, tempo_execucao\n",
        "\n",
        "    else: # Não foi possível alcançar o vértice final com a heurística gulosa\n",
        "        return None, None, None\n"
      ]
    },
    {
      "cell_type": "markdown",
      "source": [
        "### **Algoritmo de Dijkstra**\n",
        "\n",
        "O terceiro algoritmo, o _Algoritmo de Dijkstra_, junta os pontos positivos dos dois algoritmos acima.  Ele usa a _Heurística Gulosa_ para encontrar o caminho mínimo sem necessariamente construir todos os caminhos.  Dessa forma, ele sempre retorna o caminho mais curto entre o vértice inicial e todos os outros vértices do grafo e, em geral, de maneira mais rápida que a _Busca Exaustiva_.\n"
      ],
      "metadata": {
        "id": "dufL5mvAqXtr"
      }
    },
    {
      "cell_type": "code",
      "execution_count": null,
      "metadata": {
        "id": "Xt4Tinu0s0E4"
      },
      "outputs": [],
      "source": [
        "def dijkstra (grafo, vertice_inicial):\n",
        "    \"\"\"\n",
        "    Algoritmo de Dijkstra: dado um grafo ponderado e um vértice inicial,\n",
        "    encontra os caminhos mínimos desse vértice inicial até os outros vértices\n",
        "    do grafo.\n",
        "\n",
        "    Parâmetros:\n",
        "    - grafo (dict): Dicionário de adjacências que representa o grafo\n",
        "      ponderado. As chaves são os vértices do grafo e os valores são\n",
        "      dicionários, cujas chaves são os vizinhos e os valore são os pesos das\n",
        "      arestas que ligam os vértices.\n",
        "\n",
        "    - vertice_inicial (dict_keys): O vértice inicial dos caminhos mínimo que\n",
        "      queremos calcular. Se o vértice dado não pertencer ao grafo dado, a\n",
        "      função retorna None (e imprime uma mensagem de erro).\n",
        "\n",
        "    Saídas:\n",
        "    - distancias (dict): Um dicionário contendo os caminhos mínimos do vértice\n",
        "      inicial aos outros vértices do grafo. As chaves desse dicionário são os\n",
        "      vértices do grafo e os valores são listas formadas pela distância total\n",
        "      e pelo último vértice do caminho mínimo.\n",
        "\n",
        "    - tempo_execucao (float): Tempo total de execução do algoritmo (em segs).\n",
        "\n",
        "    Complexidade: O(|E| + |V|*log|V|), onde |E| é o número de arestas e |V| é\n",
        "      o número de vértices do grafo dado.\n",
        "    \"\"\"\n",
        "\n",
        "    # Começo do cálculo do tempo de execução do algoritmo (O(|E| + |V|log|V|))\n",
        "    horario_inicio = time.time()\n",
        "\n",
        "    # Validação básica\n",
        "    if vertice_inicial not in grafo:\n",
        "        print(f\"O vértice inicial {vertice_inicial} não pertence ao grafo.\")\n",
        "        return None, None\n",
        "    #else: como o vértice inicial pertence ao grafo dado, continuamos...\n",
        "\n",
        "    # Dicionário criado para alocar: a menor distância entre o vértice inicial\n",
        "    # e os outros vértices do grafo, e o caminho mínimo. Esse dicionário é\n",
        "    # inicializado com infinito para todos os vértices (porque ainda não\n",
        "    # calculamos nada).\n",
        "    distancias = {vertice: [float('infinity'), vertice_inicial]  for vertice in grafo}\n",
        "\n",
        "    # Depois definimos a distância do vértice inicial a ele mesmo como sendo 0\n",
        "    distancias[vertice_inicial][0] = 0\n",
        "\n",
        "    # Definição do conjunto de vértices que ainda precisam ser analisados\n",
        "    nao_visitados = {vertice  for vertice in grafo}\n",
        "\n",
        "    # Definição de uma lista que, junto com o conjunto de vértices não-\n",
        "    # -visitados, vai ser usada para determinar o próximo vértice a ser\n",
        "    # analisado. Essa lista é inicializada com (0, vertice_inicial) por dois\n",
        "    # motivos: para ser não-vazia, e para que a primeira iteração do loop\n",
        "    # inclua nela todos os vizinhos do vértice inicial.\n",
        "    fila_prioridade = [(0, vertice_inicial)]\n",
        "\n",
        "    # Observe que a fila de prioridade vai ser vazia quando não existir mais\n",
        "    # nenhum vizinho a ser analisado\n",
        "    while fila_prioridade:\n",
        "        # Reordenar a fila de prioridade por ordem de distância e extrair o\n",
        "        # primeiro item dessa lista. Esse vértice será o vizinho mais próximo\n",
        "        # do vértice anterior que ainda não foi analisado.\n",
        "        heapq.heapify(fila_prioridade)\n",
        "        distancia_atual, vertice_atual = heapq.heappop(fila_prioridade)\n",
        "\n",
        "        # Se a distância atual é maior do que a distância armazenada, ignore\n",
        "        if distancia_atual > distancias[vertice_atual][0]:\n",
        "            continue\n",
        "        else:\n",
        "            for vizinho, peso in grafo[vertice_atual].items():\n",
        "                # Para cada vizinho do vértice atual, verificar se a distância\n",
        "                # do caminho que passa pelo vértice atual e vai para esse\n",
        "                # vizinho é menor que a distância que nós tínhamos calculado\n",
        "                # antes. Se for, atualiza o valor da distância mínima.\n",
        "                if distancia_atual + peso < distancias[vizinho][0]:\n",
        "                    distancias[vizinho] = [distancia_atual + peso, vertice_atual]\n",
        "                #else: mantemos a distância que nós já tínhamos, que é menor\n",
        "\n",
        "            # Como o vértice atual já foi analisado, exclua ele do conjunto de\n",
        "            # vértices não-visitados\n",
        "            nao_visitados.discard(vertice_atual)\n",
        "\n",
        "            # Atualize a fila de prioridade com os vizinhos não-visitados do\n",
        "            # vértice atual\n",
        "            fila_prioridade = [(distancias[vizinho][0], vizinho)  for vizinho in list(grafo[vertice_atual]) if vizinho in nao_visitados]\n",
        "\n",
        "    # Cálculo do tempo total de execução\n",
        "    tempo_execucao = time.time() - horario_inicio\n",
        "\n",
        "    return reconstruir_caminhos(distancias, vertice_inicial), tempo_execucao\n",
        "\n",
        "\n",
        "def reconstruir_caminhos (dicionario_distancias, vertice_inicial):\n",
        "    caminhos_minimos = {}\n",
        "\n",
        "    for a in dicionario_distancias:\n",
        "        ultimo = a;\n",
        "        caminho = [a]\n",
        "\n",
        "        while ultimo != vertice_inicial:\n",
        "            caminho.insert(0, dicionario_distancias[ultimo][1])\n",
        "            ultimo = dicionario_distancias[ultimo][1]\n",
        "\n",
        "        caminhos_minimos[a] = [dicionario_distancias[a][0], caminho]\n",
        "\n",
        "    return caminhos_minimos\n"
      ]
    },
    {
      "cell_type": "markdown",
      "metadata": {
        "id": "SNUJZEve6dZo"
      },
      "source": [
        "## Exemplos\n",
        "\n",
        "Para terminar, vamos fazer alguns exemplos de uso dos algoritmos construídos acima.\n"
      ]
    },
    {
      "cell_type": "markdown",
      "source": [
        "__Exemplo 1.__\n",
        "Considere o seguinte grafo\n",
        "\n",
        "<p align=\"center\">\n",
        "  <img src=\"http://github.com/Jvfc745/IC---Problemas-de-Caminho-minimo/blob/9f9cacf9279856b97ac3b4e233e89ff47a0d79f3/imagens/grafo1.png?raw=true\" />\n",
        "</p>\n",
        "\n",
        "Observe que, nesse caso, o caminho mínimo entre os vértices $a$ e $d$ tem comprimento 1.  Vamos rodar os três algoritmos acima para comparar seus resultados.\n"
      ],
      "metadata": {
        "id": "d803tjLAf995"
      }
    },
    {
      "cell_type": "markdown",
      "source": [
        "Para começar, nós precisamos escrever a [_lista de adjacências_](https://en.wikipedia.org/wiki/Adjacency_list) do grafo acima.  Na implementação dos algoritmos que nós fizemos, é mais conveniente representar essa lista de adjacências como um _dicionário_ de `Python`:\n"
      ],
      "metadata": {
        "id": "Cbz9GeoMUyij"
      }
    },
    {
      "cell_type": "code",
      "source": [
        "grafo = {'a': {'b': 1, 'c': 1, 'd': 1},\n",
        "         'b': {'a': 1, 'c': 1, 'd': 1},\n",
        "         'c': {'a': 1, 'b': 1, 'd': 1},\n",
        "         'd': {'a': 1, 'b': 1, 'c': 1}}\n"
      ],
      "metadata": {
        "id": "asGbgjBVVXvn"
      },
      "execution_count": null,
      "outputs": []
    },
    {
      "cell_type": "markdown",
      "source": [
        "Agora, usando essa representação do grafo como uma lista de adjacências, nós podemos aplicar os três algoritmos construídos na seção anterior:\n"
      ],
      "metadata": {
        "id": "uNm__-D1V6ov"
      }
    },
    {
      "cell_type": "code",
      "source": [
        "print(\"Busca Exaustiva:\", busca_exaustiva(grafo, 'a', 'd'))\n",
        "\n",
        "print(\"Heurística Gulosa:\", heuristica_gulosa(grafo, 'a', 'd'))\n",
        "\n",
        "print(\"Algoritmo de Dijkstra:\", dijkstra(grafo, 'a'))\n"
      ],
      "metadata": {
        "colab": {
          "base_uri": "https://localhost:8080/"
        },
        "id": "Q4B8aJSXWo2p",
        "outputId": "1d5e1945-617c-4ae6-d229-7c14afc0582b"
      },
      "execution_count": null,
      "outputs": [
        {
          "output_type": "stream",
          "name": "stdout",
          "text": [
            "Busca Exaustiva: (['a', 'd'], 1, 5.4836273193359375e-05)\n",
            "Heurística Gulosa: (['a', 'b', 'c', 'd'], 3.0, 3.409385681152344e-05)\n",
            "Algoritmo de Dijkstra: ({'a': [0, ['a']], 'b': [1, ['a', 'b']], 'c': [1, ['a', 'c']], 'd': [1, ['a', 'd']]}, 3.0994415283203125e-05)\n"
          ]
        }
      ]
    },
    {
      "cell_type": "markdown",
      "source": [
        "Observe que as 3 entradas da função `busca_exaustiva` são: a lista de adjacências do grafo (`grafo`), o ponto inicial ($a$), e o ponto final do caminho ($d$).  Enquanto as suas 3 saídas são: o caminho mínimo ($a \\to d$), o peso total desse caminho ($1$), e o seu tempo de execução (~$5,5 \\cdot 10^{-5}$ segundos).\n",
        "\n",
        "De forma similar, as 3 entradas da função `heuristica_gulosa` são: a lista de adjacências de um grafo, o ponto inicial e o ponto final do caminho.  Enquanto as suas 3 saídas são: o caminho encontrado ($a \\to b \\to c \\to d$), o peso total desse caminho ($3$), e o seu tempo de execução (~$3,4 \\cdot 10^{-5}$ segundos).  Observe que, nesse caso, a Heurística Gulosa _não_ retorna o caminho mínimo.\n",
        "\n",
        "Já a função `dijkstra` tem só 2 entradas: a lista de adjacências de um grafo e o ponto inicial do caminho.  As suas saídas contêm: um dicionário e o seu tempo de execução (~$3,1 \\cdot 10^{-5}$ segundos).  Nesse dicionário então os pontos finais, o peso total do caminho mínimo do ponto inicial até cada um desses pontos finais, e os respectivos caminhos mínimos.  Assim, por exemplo, o caminho mínimo de $a$ até $d$ tem peso total $1$ e o caminho é $a \\to d$.\n",
        "\n",
        "Observe também que o Algoritmo de Dijkstra é mais rápido que a Heurística Gulosa, que por sua vez, é mais rápida que a Busca Exaustiva.\n"
      ],
      "metadata": {
        "id": "3x0L793RSnad"
      }
    },
    {
      "cell_type": "markdown",
      "source": [
        "__Exemplo 2.__\n",
        "Para esse exemplo, considere o grafo\n",
        "<p align=\"center\">\n",
        "  <img src=\"https://github.com/Jvfc745/IC---Problemas-de-Caminho-minimo/blob/1d2cfea4a119d72ad35ede4d1820daf6e20385c3/imagens/grafo2.png?raw=true\" />\n",
        "</p>\n",
        "\n",
        "Observe que sua lista de adjacências é a seguinte:\n"
      ],
      "metadata": {
        "id": "Ag2e5qLowkhI"
      }
    },
    {
      "cell_type": "code",
      "source": [
        "grafo = {'a': {'b': 1, 'c': 2},\n",
        "         'b': {'a': 1, 'd': 3},\n",
        "         'c': {'a': 2, 'd': 4},\n",
        "         'd': {'b': 3, 'c': 4}}\n"
      ],
      "metadata": {
        "id": "qOLVqdJ15qWq"
      },
      "execution_count": null,
      "outputs": []
    },
    {
      "cell_type": "markdown",
      "source": [
        "Vamos aplicar os três algoritmos acima e analizar seus resultados:\n"
      ],
      "metadata": {
        "id": "Z-en4ML96Ca7"
      }
    },
    {
      "cell_type": "code",
      "source": [
        "print(\"Busca Exaustiva:\", busca_exaustiva(grafo, 'a', 'd'))\n",
        "\n",
        "print(\"Heurística Gulosa:\", heuristica_gulosa(grafo, 'a', 'd'))\n",
        "\n",
        "print(\"Algoritmo de Dijkstra:\", dijkstra(grafo, 'a'))\n"
      ],
      "metadata": {
        "colab": {
          "base_uri": "https://localhost:8080/"
        },
        "id": "D65Fvu0q6KI4",
        "outputId": "cb6175f9-2b01-44ad-aaab-5744931eb8c9"
      },
      "execution_count": null,
      "outputs": [
        {
          "output_type": "stream",
          "name": "stdout",
          "text": [
            "Busca Exaustiva: (['a', 'b', 'd'], 4, 2.3365020751953125e-05)\n",
            "Heurística Gulosa: (['a', 'b', 'd'], 4.0, 2.0265579223632812e-05)\n",
            "Algoritmo de Dijkstra: ({'a': [0, ['a']], 'b': [1, ['a', 'b']], 'c': [2, ['a', 'c']], 'd': [4, ['a', 'b', 'd']]}, 2.09808349609375e-05)\n"
          ]
        }
      ]
    },
    {
      "cell_type": "markdown",
      "source": [
        "Observe que as 3 entradas da função `busca_exaustiva` são: a lista de adjacências do grafo (`grafo`), o ponto inicial ($a$) e o ponto final ($d$) do caminho.  Enquanto as suas saídas são: o caminho mínimo ($a \\to b \\to d$), o peso total desse caminho ($4$), e o seu tempo de execução (~$2,34 \\cdot 10^{-5}$ segundos).\n",
        "\n",
        "De forma similar, as 3 entradas da função `heuristica_gulosa` são: a lista de adjacências do grafo, o ponto inicial e o ponto final do caminho.  Enquanto as suas saídas são: o caminho encontrado ($a \\to b \\to d$), o peso total desse caminho ($4$), e o tempo de execução (~$2,03 \\cdot 10^{-5}$ segundos).  Observe que, nesse caso, a Heurística Gulosa retorna exatamente o caminho mínimo, de forma mais rápida que a Busca Exaustiva.\n",
        "\n",
        "Já a função `dijkstra` tem só 2 entradas: a lista de adjacências do grafo e o ponto inicial.  As suas saídas contêm: um dicionário e o seu tempo de execução (~$2,1 \\cdot 10^{-5}$ segundos).  Nesse dicionário então os pontos finais, o peso total do caminho mínimo do ponto inicial até cada um desses pontos finais, e os respectivos caminhos mínimos.  Assim, por exemplo, o caminho mínimo de $a$ até $d$ tem peso total $4$ e o caminho é $a \\to b \\to d$.\n",
        "\n",
        "Observe também que, nesse caso, a Heurística Gulosa é mais rápida que o Algoritmo de Dijkstra, que por sua vez, é mais rápido que a Busca Exaustiva.  Por fim, observe que, nesse caso, os três algoritmos retornam o caminho mínimo antre $a$ e $d$.\n"
      ],
      "metadata": {
        "id": "Pbe9IJya7FVA"
      }
    }
  ],
  "metadata": {
    "colab": {
      "provenance": []
    },
    "kernelspec": {
      "display_name": "Python 3",
      "name": "python3"
    },
    "language_info": {
      "name": "python"
    }
  },
  "nbformat": 4,
  "nbformat_minor": 0
}