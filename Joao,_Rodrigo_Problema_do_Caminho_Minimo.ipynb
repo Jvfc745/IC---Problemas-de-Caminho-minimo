{
  "cells": [
    {
      "cell_type": "markdown",
      "metadata": {
        "id": "lj3T5VXp6pbR"
      },
      "source": [
        "# PROBLEMA DO CAMINHO MÍNIMO\n"
      ]
    },
    {
      "cell_type": "markdown",
      "metadata": {
        "id": "2w7L6Cep6qOq"
      },
      "source": [
        "O _Problema do Caminho Mínimo_ é o seguinte: dados um grafo ponderado (com pesos, ou distâncias) e dois de seus vértices, encontrar o caminho nesse grafo que ligue os dois vértices dados e tenha o menor peso (distância) total possível.  Uma descrição mais detalhada, incluindo definições e exemplos dos conceitos necessários para entender esse problema, está contida no <a href=\"\">... link ...</a>.\n",
        "\n",
        "Nesse _notebook_, serão apresentadas implementações comentadas de alguns algoritmos usados para resolver esse problema: _Busca Exaustiva_, o _Algoritmo de Dijkstra_ e uma _heurística gulosa_.  Em seguida, essas implementações serão comparadas.\n"
      ]
    },
    {
      "cell_type": "markdown",
      "metadata": {
        "id": "DHnewb8P6k_x"
      },
      "source": [
        "## Bibliotecas\n",
        "\n",
        "Para começar, vamos carregar as quatro bibliotecas do ``Python`` que serão usadas nesse _notebook_.  A primeira delas, ``heapq``, será usada no Algoritmo de Dijkstra para criar listas de prioridades. A segunda, ``time``, será usada para calcular e comparar os tempos de execução dos algoritmos implementados, a terceira é a ``matplotlib.pyplot`` que será utilizada para plotar os graficos referentes às comparações entre os algoritmos, e a quarta é a ``math`` utilizada para verificar a proximidade dos numeros avaliados com segurança (garantir que dois numeros como 3 e 3.0 sejam \"iguais\")\n"
      ]
    },
    {
      "cell_type": "code",
      "execution_count": 12,
      "metadata": {
        "id": "zofbDRBZ6Qo4"
      },
      "outputs": [],
      "source": [
        "#Bibliotecas para criação e medição dos algoritmos\n",
        "import heapq\n",
        "import math\n",
        "import time\n",
        "\n",
        "#Biblioteca para plotar os gráficos\n",
        "import matplotlib.pyplot as plt\n",
        "\n",
        "#Biliotecas para gerar grafos aleatórios\n",
        "from os import uname\n",
        "import networkx as nx\n",
        "import random\n",
        "\n",
        "#Bibliotecas utilizadas para análise dos dados\n",
        "import numpy as np\n",
        "import pandas as pd\n"
      ]
    },
    {
      "cell_type": "markdown",
      "metadata": {
        "id": "AgzKtrO76FP7"
      },
      "source": [
        "## Implementações dos algoritmos\n"
      ]
    },
    {
      "cell_type": "code",
      "execution_count": 5,
      "metadata": {
        "id": "71pvxVlwx_qf"
      },
      "outputs": [],
      "source": [
        "# Essa é uma função auxiliar, que será usada para verificar se existe algum\n",
        "# caminho entre dois vértices de um grafo.  Concretamente, ela constrói o\n",
        "# conjunto de todos os vértices que estão conectados ao vértice-base, ou seja,\n",
        "# a componente conexa do vértice-base no grafo:\n",
        "# http://en.wikipedia.org/wiki/Connectivity_(graph_theory)#Components_and_cuts\n",
        "\n",
        "def componente_conexa (grafo, vertice_base):\n",
        "    if vertice_base in grafo:\n",
        "        componente_conexa = set()\n",
        "        vizinhos = {vertice_base}\n",
        "\n",
        "        while componente_conexa != vizinhos:\n",
        "            componente_conexa = vizinhos.copy()\n",
        "            for vertice in componente_conexa:\n",
        "                vizinhos.update(grafo[vertice])\n",
        "\n",
        "        return componente_conexa\n",
        "\n",
        "    else:\n",
        "        print(f\"O vértice {vertice_base} não pertence ao grafo.\")\n",
        "        return None\n"
      ]
    },
    {
      "cell_type": "markdown",
      "source": [
        "### **Busca Exaustiva**"
      ],
      "metadata": {
        "id": "sZ2QnmP0qP2K"
      }
    },
    {
      "cell_type": "code",
      "execution_count": 6,
      "metadata": {
        "id": "wUn0uuRfVkb5"
      },
      "outputs": [],
      "source": [
        "#########################\n",
        "###  BUSCA EXAUSTIVA  ###\n",
        "#########################\n",
        "\n",
        "\n",
        "def busca_exaustiva (grafo, vertice_inicial, vertice_final):\n",
        "    \"\"\"\n",
        "    Busca exaustiva: dado um grafo ponderado e dois de seus vértices, realiza\n",
        "    uma busca exaustiva para encontrar o caminho mínimo entre esses vértices.\n",
        "\n",
        "    Parâmetros:\n",
        "    - grafo (dict): Um dicionário representando o grafo, onde as chaves são os\n",
        "      vértices e os valores são listas de vértices vizinhos e suas distâncias.\n",
        "    - vertice_inicial: O vértice de partida para a busca.\n",
        "    - vertice_final: O vértice de destino para a busca.\n",
        "\n",
        "    Retorna: uma tupla contendo:\n",
        "    - caminho_minimo (list): uma lista representando o caminho mínimo entre o\n",
        "       vértice inicial e o vértice final.\n",
        "    - menor_distância (float): um número representando o comprimento total do\n",
        "      caminho mínimo.\n",
        "    - tempo_execucao (float): um número representando o tempo total de\n",
        "      execução do algoritmo.\n",
        "\n",
        "    Complexidade: O(d^|V|), d é o grau do grafo e |V| é o número de vértices\n",
        "      do grafo dado.\n",
        "    \"\"\"\n",
        "\n",
        "    # Validações básicas\n",
        "    if not componente_conexa(grafo, vertice_inicial):\n",
        "        return None, None, None\n",
        "    elif vertice_final not in grafo:\n",
        "        print(f\"O vértice final {vertice_final} não pertence ao grafo.\")\n",
        "        return None, None, None\n",
        "    elif vertice_final not in componente_conexa(grafo, vertice_inicial):\n",
        "        return None, None, None\n",
        "    #else: como os dois vértices pertencem ao grafo dado e como existe um\n",
        "    #  caminho entre o vértice inicial e o vértice final, continuamos...\n",
        "\n",
        "    # Horário do início do algoritmo\n",
        "    horario_inicio = time.time()\n",
        "\n",
        "    # Lista que vai guardar os caminhos já construídos e seus comprimentos.\n",
        "    lista = []\n",
        "\n",
        "    # Lista que vai guardar os caminhos expandidos. Inicializamos essa lista\n",
        "    # só com o vértice inicial, que é como se fosse uma expansão da lista\n",
        "    # vazia.\n",
        "    nova_lista = [{'caminho': [vertice_inicial], 'comprimento': 0}]\n",
        "\n",
        "    # Enquanto os caminhos ainda puderem ser expandidos:\n",
        "    while nova_lista != lista:\n",
        "        # Atualizamos a lista de caminhos já construídos\n",
        "        lista = nova_lista\n",
        "\n",
        "        # Construímos uma nova lista de caminhos expandidos\n",
        "        nova_lista = []\n",
        "\n",
        "        for elemento in lista:\n",
        "            novos_elementos = expandir_caminho(grafo, vertice_final, elemento['caminho'], elemento['comprimento'])\n",
        "            nova_lista += [{'caminho': caminho, 'comprimento': comprimento}  for caminho, comprimento in novos_elementos]\n",
        "\n",
        "    # Quando os caminhos não puderem mais ser expandidos, calcular o caminho\n",
        "    # mínimo e seu comprimento\n",
        "    menor_distancia = min([item['comprimento']  for item in lista])\n",
        "    caminho_minimo = [item['caminho']  for item in lista if item['comprimento'] == menor_distancia][0]\n",
        "\n",
        "    # Calcular o tempo tota de execução do algoritmo\n",
        "    tempo_execucao = time.time() - horario_inicio\n",
        "\n",
        "    return caminho_minimo, menor_distancia, tempo_execucao\n",
        "\n",
        "\n",
        "def expandir_caminho(grafo, vertice_final, caminho, comprimento):\n",
        "    # Tomar o último vértice do caminho\n",
        "    ultimo_vertice = caminho[-1]\n",
        "\n",
        "    # Se o último vértice já for o vértice final, não precisa expandir\n",
        "    if ultimo_vertice == vertice_final:\n",
        "        return [(caminho, comprimento)]\n",
        "\n",
        "    # Se não, pegamos todos os vizinhos do último vértice que ainda não estão\n",
        "    # no caminho e expandimos o caminho inicial com cada um deles\n",
        "    else:\n",
        "        vizinhos_nao_visitados = {(vertice, distancia)  for vertice, distancia in grafo[ultimo_vertice].items() if vertice not in caminho}\n",
        "        caminhos_expandidos = [([*caminho, vertice], comprimento + distancia)  for vertice, distancia in vizinhos_nao_visitados]\n",
        "        return caminhos_expandidos\n"
      ]
    },
    {
      "cell_type": "markdown",
      "source": [
        "### **Heurística Gulosa**"
      ],
      "metadata": {
        "id": "kCi0rM9bqS6x"
      }
    },
    {
      "cell_type": "code",
      "execution_count": 7,
      "metadata": {
        "id": "vmphG4RRcEit"
      },
      "outputs": [],
      "source": [
        "###########################\n",
        "###  HEURISTICA GULOSA  ###\n",
        "###########################\n",
        "\n",
        "\n",
        "def heuristica_gulosa (grafo, vertice_inicial, vertice_final):\n",
        "    \"\"\"\n",
        "    Heurística Gulosa: dados um grafo ponderado e dois vértices, essa função\n",
        "    encontra um caminho do vértice inicial até o vértice final que segue as\n",
        "    arestas de peso mínimo. (Esse caminho pode não ser o caminho mínimo!)\n",
        "\n",
        "    Parâmetros:\n",
        "    - grafo (dict): Dicionário de adjacências que representa o grafo\n",
        "      ponderado. As chaves são os vértices do grafo e os valores são\n",
        "      dicionários, cujas chaves são os vizinhos e os valores são os pesos das\n",
        "      arestas que ligam os vértices.\n",
        "    - vertice_inicial: Vértice inicial do caminho. Se esse vértice não\n",
        "      pertencer ao grafo, a função retorna None (e uma mensagem de erro).\n",
        "    - vertice_final: Vértice final do caminho. Se esse vértice não pertencer\n",
        "      ao grafo, a função retorna None (e uma mensagem de erro).\n",
        "\n",
        "    Saídas:\n",
        "    - caminho (list): Uma lista contendo os vértices do caminho encontrado.\n",
        "    - peso_total (float): Soma dos pesos das arestas do caminho encontrado.\n",
        "    - tempo_execucao (float): Tempo total de execução da heurística (em segs).\n",
        "\n",
        "    Complexidade: O(|V|^2 + |E|), onde |V| é o número de vértices e |E| é o\n",
        "      número de arestas do grafo dado.\n",
        "    \"\"\"\n",
        "\n",
        "    # Começo do cálculo do tempo de execução do algoritmo\n",
        "    horario_inicio = time.time()\n",
        "\n",
        "    # Validações básicas\n",
        "    if not componente_conexa(grafo, vertice_inicial):\n",
        "        return None, None, None\n",
        "    elif vertice_final not in grafo:\n",
        "        print(f\"O vértice final {vertice_final} não pertence ao grafo.\")\n",
        "        return None, None, None\n",
        "    elif vertice_final not in componente_conexa(grafo, vertice_inicial):\n",
        "        return None, None, None\n",
        "    #else: como os dois vértices pertencem ao grafo dado e como existe um\n",
        "    #  caminho entre o vértice inicial e o vértice final, continuamos...\n",
        "\n",
        "    # Preparação para o loop principal:\n",
        "    # - conjunto de vértices não visitados\n",
        "    nao_visitados = set(grafo)\n",
        "    # - lista que vai guardar o caminho do vértice inicial ao final\n",
        "    caminho = []\n",
        "    # - variável que vai guardar o peso total do caminho acima\n",
        "    peso_total = 0.0\n",
        "    # - vértice que estará sendo analisado em cada iteração do loop\n",
        "    vertice_atual = vertice_inicial\n",
        "\n",
        "    # Loop que só para quando chegamos ao vértice final, ou ...\n",
        "    while vertice_atual != vertice_final:\n",
        "        # Incluir o vértice atual ao caminho\n",
        "        caminho.append(vertice_atual)\n",
        "        # Remover o vértice atual do conjunto de vértices não visitados\n",
        "        nao_visitados.discard(vertice_atual)\n",
        "        # Dicionário contendo os vizinhos do vértice atual que ainda não foram\n",
        "        # visitados e os pesos das respectivas arestas\n",
        "        vizinhos_nao_visitados = {vizinho: peso  for vizinho, peso in grafo[vertice_atual].items() if vizinho in nao_visitados}\n",
        "\n",
        "        if vizinhos_nao_visitados:\n",
        "            # O vértice atual para a próxima iteração será o vizinho mais próximo\n",
        "            vertice_atual = min(vizinhos_nao_visitados, key=vizinhos_nao_visitados.get)\n",
        "            # Adicionar o tamanho da aresta ligando os vértices atuais ao peso total\n",
        "            peso_total += vizinhos_nao_visitados[vertice_atual]\n",
        "        else:\n",
        "            #FIXME  Ao invés de 'break', nós poderíamos dar um passo atrás\n",
        "            #       (voltar um vértice) e continuar tentando...\n",
        "            break\n",
        "\n",
        "    if vertice_atual == vertice_final:\n",
        "        # Incluir o último vértice no caminho\n",
        "        caminho.append(vertice_atual)\n",
        "\n",
        "        # Calcular o tempo total de execução do algoritmo\n",
        "        tempo_execucao = time.time() - horario_inicio\n",
        "\n",
        "        return caminho, peso_total, tempo_execucao\n",
        "\n",
        "    else: # Não foi possível alcançar o vértice final com a heurística gulosa\n",
        "        #TODO  Isso realmente pode acontecer?\n",
        "        return None, None, None\n"
      ]
    },
    {
      "cell_type": "markdown",
      "source": [
        "### **Algoritmo de Dijkstra**"
      ],
      "metadata": {
        "id": "dufL5mvAqXtr"
      }
    },
    {
      "cell_type": "code",
      "execution_count": 8,
      "metadata": {
        "id": "Xt4Tinu0s0E4"
      },
      "outputs": [],
      "source": [
        "###############################\n",
        "###  ALGORITMO DE DIJKSTRA  ###\n",
        "###############################\n",
        "\n",
        "\n",
        "def dijkstra (grafo, vertice_inicial):\n",
        "    \"\"\"\n",
        "    Algoritmo de Dijkstra: dado um grafo ponderado e um vértice inicial,\n",
        "    encontra os caminhos mínimos desse vértice inicial até os outros vértices\n",
        "    do grafo.\n",
        "\n",
        "    Parâmetros:\n",
        "    - grafo (dict): Dicionário de adjacências que representa o grafo\n",
        "      ponderado. As chaves são os vértices do grafo e os valores são\n",
        "      dicionários, cujas chaves são os vizinhos e os valore são os pesos das\n",
        "      arestas que ligam os vértices.\n",
        "\n",
        "    - vertice_inicial (dict_keys): O vértice inicial dos caminhos mínimo que\n",
        "      queremos calcular. Se o vértice dado não pertencer ao grafo dado, a\n",
        "      função retorna None (e imprime uma mensagem de erro).\n",
        "\n",
        "    Saídas:\n",
        "    - distancias (dict): Um dicionário contendo os caminhos mínimos do vértice\n",
        "      inicial aos outros vértices do grafo. As chaves desse dicionário são os\n",
        "      vértices do grafo e os valores são listas formadas pela distância total\n",
        "      e pelo último vértice do caminho mínimo.\n",
        "\n",
        "    - tempo_execucao (float): Tempo total de execução do algoritmo (em segs).\n",
        "\n",
        "    Complexidade: O(|E| + |V|*log|V|), onde |E| é o número de arestas e |V| é\n",
        "      o número de vértices do grafo dado.\n",
        "    \"\"\"\n",
        "\n",
        "    # Começo do cálculo do tempo de execução do algoritmo (O(|E| + |V|log|V|))\n",
        "    horario_inicio = time.time()\n",
        "\n",
        "    # Validação básica\n",
        "    if vertice_inicial not in grafo:\n",
        "        print(f\"O vértice inicial {vertice_inicial} não pertence ao grafo.\")\n",
        "        return None, None\n",
        "    #else: como o vértice inicial pertence ao grafo dado, continuamos...\n",
        "\n",
        "    # Dicionário criado para alocar: a menor distância entre o vértice inicial\n",
        "    # e os outros vértices do grafo, e o caminho mínimo. Esse dicionário é\n",
        "    # inicializado com infinito para todos os vértices (porque ainda não\n",
        "    # calculamos nada).\n",
        "    distancias = {vertice: [float('infinity'), vertice_inicial]  for vertice in grafo}\n",
        "\n",
        "    # Depois definimos a distância do vértice inicial a ele mesmo como sendo 0\n",
        "    distancias[vertice_inicial][0] = 0\n",
        "\n",
        "    # Definição do conjunto de vértices que ainda precisam ser analisados\n",
        "    nao_visitados = {vertice  for vertice in grafo}\n",
        "\n",
        "    # Definição de uma lista que, junto com o conjunto de vértices não-\n",
        "    # -visitados, vai ser usada para determinar o próximo vértice a ser\n",
        "    # analisado. Essa lista é inicializada com (0, vertice_inicial) por dois\n",
        "    # motivos: para ser não-vazia, e para que a primeira iteração do loop\n",
        "    # inclua nela todos os vizinhos do vértice inicial.\n",
        "    fila_prioridade = [(0, vertice_inicial)]\n",
        "\n",
        "    # Observe que a fila de prioridade vai ser vazia quando não existir mais\n",
        "    # nenhum vizinho a ser analisado\n",
        "    while fila_prioridade:\n",
        "        # Reordenar a fila de prioridade por ordem de distância e extrair o\n",
        "        # primeiro item dessa lista. Esse vértice será o vizinho mais próximo\n",
        "        # do vértice anterior que ainda não foi analisado.\n",
        "        heapq.heapify(fila_prioridade)\n",
        "        distancia_atual, vertice_atual = heapq.heappop(fila_prioridade)\n",
        "\n",
        "        # Se a distância atual é maior do que a distância armazenada, ignore\n",
        "        if distancia_atual > distancias[vertice_atual][0]:\n",
        "            continue\n",
        "        else:\n",
        "            for vizinho, peso in grafo[vertice_atual].items():\n",
        "                # Para cada vizinho do vértice atual, verificar se a distância\n",
        "                # do caminho que passa pelo vértice atual e vai para esse\n",
        "                # vizinho é menor que a distância que nós tínhamos calculado\n",
        "                # antes. Se for, atualiza o valor da distância mínima.\n",
        "                if distancia_atual + peso < distancias[vizinho][0]:\n",
        "                    distancias[vizinho] = [distancia_atual + peso, vertice_atual]\n",
        "                #else: mantemos a distância que nós já tínhamos, que é menor\n",
        "\n",
        "            # Como o vértice atual já foi analisado, exclua ele do conjunto de\n",
        "            # vértices não-visitados\n",
        "            nao_visitados.discard(vertice_atual)\n",
        "\n",
        "            # Atualize a fila de prioridade com os vizinhos não-visitados do\n",
        "            # vértice atual\n",
        "            fila_prioridade = [(distancias[vizinho][0], vizinho)  for vizinho in list(grafo[vertice_atual]) if vizinho in nao_visitados]\n",
        "\n",
        "    # Cálculo do tempo total de execução\n",
        "    tempo_execucao = time.time() - horario_inicio\n",
        "\n",
        "    return reconstruir_caminhos(distancias, vertice_inicial), tempo_execucao\n",
        "\n",
        "\n",
        "def reconstruir_caminhos (dicionario_distancias, vertice_inicial):\n",
        "    caminhos_minimos = {}\n",
        "\n",
        "    for a in dicionario_distancias:\n",
        "        ultimo = a;\n",
        "        caminho = [a]\n",
        "\n",
        "        while ultimo != vertice_inicial:\n",
        "            caminho.insert(0, dicionario_distancias[ultimo][1])\n",
        "            ultimo = dicionario_distancias[ultimo][1]\n",
        "\n",
        "        caminhos_minimos[a] = [dicionario_distancias[a][0], caminho]\n",
        "\n",
        "    return caminhos_minimos\n"
      ]
    },
    {
      "cell_type": "markdown",
      "source": [
        "### **Algoritmo de Bellman-Ford**"
      ],
      "metadata": {
        "id": "0JUZIHawIdaA"
      }
    },
    {
      "cell_type": "code",
      "source": [
        "###################################\n",
        "###  ALGORITMO DE BELLMAN-FORD  ###\n",
        "###################################\n",
        "\n",
        "def bellman_ford(grafo,vertice_inicial):\n",
        "  \"\"\"\n",
        "  Algoritmo de Bellman-ford: dado um grafo ponderado e um vértice inicial,\n",
        "  encontra os caminhos mínimos desse vértice inicial até os outros vértices\n",
        "  do grafo. (Quebra limitações de dijkstra, o grafo pode ter pesos negativos)\n",
        "\n",
        "  Parâmetros:\n",
        "  - grafo (dict): Dicionário de adjacências que representa o grafo\n",
        "    ponderado. As chaves são os vértices do grafo e os valores são\n",
        "    dicionários, cujas chaves são os vizinhos e os valore são os pesos das\n",
        "    arestas que ligam os vértices.\n",
        "\n",
        "  - vertice_inicial (dict_keys): O vértice inicial dos caminhos mínimo que\n",
        "    queremos calcular. Se o vértice dado não pertencer ao grafo dado, a\n",
        "    função retorna None (e imprime uma mensagem de erro).\n",
        "\n",
        "  Saídas:\n",
        "  - distancias (dict): Um dicionário contendo os caminhos mínimos do vértice\n",
        "    inicial aos outros vértices do grafo. As chaves desse dicionário são os\n",
        "    vértices do grafo e os valores são listas formadas pela distância total\n",
        "    e pelo último vértice do caminho mínimo.\n",
        "\n",
        "  - tempo_execucao (float): Tempo total de execução do algoritmo (em segs).\n",
        "\n",
        "  Complexidade: O(|V|*|E|), onde |E| é o número de arestas e |V| é\n",
        "    o número de vértices do grafo dado.\n",
        "  \"\"\"\n",
        "  horario_inicio = time.time()\n",
        "  if vertice_inicial not in grafo:\n",
        "    print(f\"O vértice inicial {vertice_inicial} não pertence ao grafo.\")\n",
        "    return None, None\n",
        "  pass\n"
      ],
      "metadata": {
        "id": "2s6-wkyhxxJR"
      },
      "execution_count": 9,
      "outputs": []
    },
    {
      "cell_type": "markdown",
      "metadata": {
        "id": "SNUJZEve6dZo"
      },
      "source": [
        "## Considerações finais\n"
      ]
    },
    {
      "cell_type": "markdown",
      "metadata": {
        "id": "aXw7nEgEg2ap"
      },
      "source": [
        "* Heurística gulosa é mais rápida que Dijkstra,\n",
        "    - Um exemplo concreto\n",
        "    - Uma comparação de médias\n",
        "\n",
        "* Dijkstra é mais rápido que a Busca exaustiva,\n",
        "    - Um exemplo concreto\n",
        "    - Uma cota de quando a Busca Exaustiva já não dá conta\n",
        "\n",
        "* Heurística gulosa erra com frequência.\n",
        "    - Um exemplo concreto\n",
        "    - Uma média genérica\n"
      ]
    },
    {
      "cell_type": "markdown",
      "metadata": {
        "id": "DCauH0W_iTdh"
      },
      "source": [
        "### Grafos Utilizados\n"
      ]
    },
    {
      "cell_type": "code",
      "execution_count": 14,
      "metadata": {
        "id": "xEcKpTPCb_Is"
      },
      "outputs": [],
      "source": [
        "# Exemplos de grafos\n",
        "\n",
        "#<|>-\n",
        "grafo1 = {\n",
        "   'A': {'B': 1, 'C': 4, 'E': 20},\n",
        "   'B': {'A': 1, 'C': 2, 'D': 5},\n",
        "   'C': {'A': 4, 'B': 2, 'D': 1},\n",
        "   'D': {'B': 5, 'C': 1},\n",
        "   'E': {'A': 20}\n",
        "}\n",
        "\n",
        "#K4 ou <+>\n",
        "grafo2 = {\n",
        "    'A': {'B': 1.4, 'C': 1, 'D': 1.4},\n",
        "    'B': {'A': 1.4, 'C': 1, 'D': 2},\n",
        "    'C': {'A': 1, 'B': 1, 'D': 1},\n",
        "    'D': {'A': 1.4, 'B': 2, 'C': 1}\n",
        "}\n",
        "\n",
        "#<>\n",
        "grafo3 = {\n",
        "   'A': {'B': 1, 'C': 4},\n",
        "   'B': {'A': 1, 'D': 5},\n",
        "   'C': {'A': 4, 'D': 1},\n",
        "   'D': {'B': 5, 'C': 1}\n",
        "}\n"
      ]
    },
    {
      "cell_type": "markdown",
      "metadata": {
        "id": "k3QrtJuW6jcS"
      },
      "source": [
        "![grafos.png](data:image/png;base64,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)"
      ]
    },
    {
      "cell_type": "markdown",
      "source": [
        "###Tempo **Dijkstra x Gulosa**"
      ],
      "metadata": {
        "id": "vVHAmPWi4Gbx"
      }
    },
    {
      "cell_type": "markdown",
      "metadata": {
        "id": "S_uoMSOF_n9R"
      },
      "source": [
        "Para um primeiro exemplo vamos utilizar o grafo 2 pois queremos verificar o tempo de execução de um algoritmo para o outro."
      ]
    },
    {
      "cell_type": "code",
      "source": [
        "distancia_dij, tempo_dij = dijkstra(grafo2, 'A')\n",
        "distancia_g, peso, tempo_g = heuristica_gulosa(grafo2, 'A','D')\n",
        "\n",
        "print(f'Tempo do algoritmo de Dijkstra: {tempo_dij}')\n",
        "print(f'Tempo da heurística gulosa: {tempo_g}')\n",
        "\n",
        "print(f'\\nA heurística gulosa é {tempo_dij - tempo_g} mais rapida que dijkstra')"
      ],
      "metadata": {
        "colab": {
          "base_uri": "https://localhost:8080/"
        },
        "id": "guo_C5xGF1P_",
        "outputId": "fe73b99d-7b8f-4fa5-9eb4-9f79dcbfb942"
      },
      "execution_count": 15,
      "outputs": [
        {
          "output_type": "stream",
          "name": "stdout",
          "text": [
            "Tempo do algoritmo de Dijkstra: 7.748603820800781e-05\n",
            "Tempo da heurística gulosa: 3.2901763916015625e-05\n",
            "\n",
            "A heurística gulosa é 4.458427429199219e-05 mais rapida que dijkstra\n"
          ]
        }
      ]
    },
    {
      "cell_type": "markdown",
      "source": [
        "Para uma análise mais aprofundada, criamos um algoritmo para gerar muitos grafos e tirar uma média de cada tempo de execução e no final comparar entre a heurística gulosa e Dijkstra"
      ],
      "metadata": {
        "id": "7id1tSb6KBRR"
      }
    },
    {
      "cell_type": "markdown",
      "metadata": {
        "id": "yeaknG3tCoVs"
      },
      "source": [
        "###Tempo **Dijkstra x Gulosa** Comparação de médias"
      ]
    },
    {
      "cell_type": "code",
      "source": [
        "def gerar_grafo(i):\n",
        "    p = random.random() # porcentagem de arestas aleatória\n",
        "\n",
        "    grafo_abstr = nx.gnp_random_graph(i, p)\n",
        "    grafo = nx.to_dict_of_dicts(grafo_abstr)\n",
        "\n",
        "    for vertice in grafo:\n",
        "        for vizinho in grafo[vertice]:\n",
        "            grafo[vertice][vizinho] = random.randint(1, i) # pesos aleatórios\n",
        "\n",
        "    return grafo\n",
        "#Criação de váriaveis para armazenar os dados estatísticos do tempo\n",
        "tempo_por_loop_g = []\n",
        "tempo_por_loop_d = []\n",
        "\n",
        "porcentagens_de_acertos = []\n",
        "j = 0\n",
        "p = 0\n",
        "u = []\n",
        "total_acertos_tabela = []\n",
        "total_porcentagens_tabela = []\n",
        "f = 0 #indice de numero de vertices\n",
        "n_grafos = [3,4,5,7,10,25,50] #numero de grafos gerados\n",
        "for f in n_grafos:\n",
        "  for n in n_grafos:\n",
        "    for i in range(n):\n",
        "      u.append(gerar_grafo(n))\n",
        "      #Fazer um vetor que guarde todo o tempo de execução de dijkstra\n",
        "      peso_ultimo_vertice_djk = []\n",
        "      lista_tempo_dijkstra = []\n",
        "\n",
        "      #aplicando dijkstra para os grafos\n",
        "      for i in range(len(u)):\n",
        "        d_dij, t_dij = dijkstra(u[i],list(u[i])[0])\n",
        "        if d_dij != None:\n",
        "          tamanho = len(d_dij)\n",
        "          peso_ultimo_vertice_djk.append(d_dij[tamanho-1][0])\n",
        "          if peso_ultimo_vertice_djk[len(peso_ultimo_vertice_djk) - 1] == float('inf'):\n",
        "            lista_tempo_dijkstra.append(None)\n",
        "          else:\n",
        "            lista_tempo_dijkstra.append(t_dij)\n",
        "\n",
        "      #retirando a redundância e erro dos dados\n",
        "      itens_para_remover = [None]\n",
        "      lista_tempo_dijkstra = [item for item in lista_tempo_dijkstra if item not in itens_para_remover]\n",
        "\n",
        "      #aplicando a heuristica gulosa para os grafos\n",
        "      lista_tempo_gulosa = []\n",
        "      peso_gulosa = []\n",
        "      lista_tempo_gulosa = []\n",
        "      peso_gulosa = []\n",
        "      for i in range(len(u)):\n",
        "        d_gul, p_gul, tempo_gul = heuristica_gulosa(u[i],list(u[i])[0], len(u[i]) - 1)\n",
        "        lista_tempo_gulosa.append(tempo_gul)\n",
        "\n",
        "      #retirando a redundância e erro dos dados\n",
        "      itens_para_remover = [None]\n",
        "      lista_tempo_gulosa = [item for item in lista_tempo_gulosa if item not in itens_para_remover]\n",
        "\n",
        "      #Tempo médio em um vetor\n",
        "      if lista_tempo_gulosa != [] and lista_tempo_dijkstra != []:\n",
        "        tempo_gul_medio = sum(lista_tempo_gulosa)/len(lista_tempo_gulosa)\n",
        "        tempo_por_loop_g.append(tempo_gul_medio)\n",
        "        tempo_dij_medio = sum(lista_tempo_dijkstra)/len(lista_tempo_dijkstra)\n",
        "        tempo_por_loop_d.append(tempo_dij_medio)\n",
        "        j += 1\n",
        "\n",
        "\n"
      ],
      "metadata": {
        "id": "05QDi7e0Ln-_"
      },
      "execution_count": 16,
      "outputs": []
    },
    {
      "cell_type": "code",
      "source": [
        "# Plotando o gráfico\n",
        "lista_reduzida_g = lista_tempo_gulosa[:50]\n",
        "lista_reduzida_d = lista_tempo_dijkstra[:50]\n",
        "\n",
        "plt.plot(lista_reduzida_g, label='Heuristica Gulosa', marker='o')  # Linha para resultados da heuristica gulosa\n",
        "plt.plot(lista_reduzida_d, label='Algoritmo de Dijkstra', marker='x')  # Linha para resultados do algoritmo de dijktra\n",
        "\n",
        "# Adicionando título e rótulos\n",
        "plt.title('Dijkstra x Gulosa')\n",
        "plt.xlabel('Quantidade de casos')\n",
        "plt.ylabel('Tempo (segundos)')\n",
        "plt.legend()\n",
        "\n",
        "# Exibir o gráfico\n",
        "plt.show()\n",
        "print(\" \")\n",
        "\n",
        "tempo_medio_dijkstra = sum(tempo_por_loop_d)/len(tempo_por_loop_d)\n",
        "tempo_medio_gulosa = sum(tempo_por_loop_g)/len(tempo_por_loop_g)\n",
        "print(f'Tempo médio da Heurística gulosa: {tempo_medio_gulosa} x Tempo médio Algoritmo de Dijkstra: {tempo_medio_dijkstra}')"
      ],
      "metadata": {
        "colab": {
          "base_uri": "https://localhost:8080/",
          "height": 507
        },
        "id": "PZlxFBtTvIC2",
        "outputId": "b8ca4664-12cc-4953-ea5d-3d058c08e2a6"
      },
      "execution_count": 17,
      "outputs": [
        {
          "output_type": "display_data",
          "data": {
            "text/plain": [
              "<Figure size 640x480 with 1 Axes>"
            ],
            "image/png": "[encoded data removed]"
          },
          "metadata": {}
        },
        {
          "output_type": "stream",
          "name": "stdout",
          "text": [
            " \n",
            "Tempo médio da Heurística gulosa: 0.00015684365454128943 x Tempo médio Algoritmo de Dijkstra: 0.00028060824895563145\n"
          ]
        }
      ]
    },
    {
      "cell_type": "markdown",
      "source": [
        "###Tempo **Dijkstra x Exaustiva**"
      ],
      "metadata": {
        "id": "_TxN4aID35Yf"
      }
    },
    {
      "cell_type": "markdown",
      "source": [
        "Aqui faremos uma pequena analise da diferença do tempo de execução de dijkstra com a busca exaustiva utilizando os grafos já apresentados"
      ],
      "metadata": {
        "id": "hpZxJV2_4LJX"
      }
    },
    {
      "cell_type": "code",
      "source": [
        "caminho_ex, peso_ex, tempo_ex = busca_exaustiva(grafo1,'A','D')\n",
        "distancia_dij, tempo_dij = dijkstra(grafo2, 'A')\n",
        "\n",
        "print(f'Tempo do algoritmo de Dijkstra: {tempo_dij}')\n",
        "print(f'Tempo da busca_exaustiva: {tempo_ex}')\n",
        "\n",
        "print(f'\\nO algoritmo de dijkstra é {tempo_ex - tempo_dij} mais rapido do que a busca_exaustiva')"
      ],
      "metadata": {
        "id": "RIiXagvB4SG_",
        "colab": {
          "base_uri": "https://localhost:8080/"
        },
        "outputId": "a73ef615-9c27-40ce-8039-6510ef7cad59"
      },
      "execution_count": 18,
      "outputs": [
        {
          "output_type": "stream",
          "name": "stdout",
          "text": [
            "Tempo do algoritmo de Dijkstra: 4.38690185546875e-05\n",
            "Tempo da busca_exaustiva: 6.246566772460938e-05\n",
            "\n",
            "O algoritmo de dijkstra é 1.8596649169921875e-05 mais rapido do que a busca_exaustiva\n"
          ]
        }
      ]
    },
    {
      "cell_type": "markdown",
      "source": [
        "### Até onde vai a **busca exaustiva**"
      ],
      "metadata": {
        "id": "x7lD-44-6SjQ"
      }
    },
    {
      "cell_type": "markdown",
      "source": [
        "Faremos varios casos para testar qual o tamanho de um grafo que a busca exaustiva aguenta"
      ],
      "metadata": {
        "id": "SFDauVED6ahA"
      }
    },
    {
      "cell_type": "code",
      "source": [
        "def gerar_grafo(i):\n",
        "    p = random.random() # porcentagem de arestas aleatória\n",
        "\n",
        "    grafo_abstr = nx.gnp_random_graph(i, p)\n",
        "    grafo = nx.to_dict_of_dicts(grafo_abstr)\n",
        "\n",
        "    for vertice in grafo:\n",
        "        for vizinho in grafo[vertice]:\n",
        "            grafo[vertice][vizinho] = random.randint(1, i) # pesos aleatórios\n",
        "\n",
        "    return grafo\n",
        "\n",
        "teste = [5,6,7,8,9,10,11,12,13,14,15]\n",
        "for i in teste:\n",
        "  g = gerar_grafo(i)\n",
        "  print(i) #Demora mais de 2 min para rodar com teste = 13, ou seja, um grafo com 13 vértices\n",
        "  caminho_ex, peso_ex, tempo_ex = busca_exaustiva(g,0,i - 1)\n",
        "  print(caminho_ex,peso_ex,tempo_ex)"
      ],
      "metadata": {
        "id": "rGFAwDq86Z5A",
        "colab": {
          "base_uri": "https://localhost:8080/",
          "height": 703
        },
        "outputId": "14adcd26-b9b0-489a-da52-f468130ed61c"
      },
      "execution_count": 19,
      "outputs": [
        {
          "output_type": "stream",
          "name": "stdout",
          "text": [
            "5\n",
            "[0, 4] 5 4.6253204345703125e-05\n",
            "6\n",
            "[0, 5] 1 2.5033950805664062e-05\n",
            "7\n",
            "[0, 3, 6] 7 0.00048828125\n",
            "8\n",
            "[0, 7] 3 0.001986980438232422\n",
            "9\n",
            "None None None\n",
            "10\n",
            "None None None\n",
            "11\n",
            "[0, 6, 10] 9 0.006336688995361328\n",
            "12\n",
            "None None None\n",
            "13\n",
            "[0, 7, 12] 6 10.782659769058228\n",
            "14\n"
          ]
        },
        {
          "output_type": "error",
          "ename": "KeyboardInterrupt",
          "evalue": "",
          "traceback": [
            "\u001b[0;31m---------------------------------------------------------------------------\u001b[0m",
            "\u001b[0;31mKeyboardInterrupt\u001b[0m                         Traceback (most recent call last)",
            "\u001b[0;32m<ipython-input-19-f6cbd4000c2b>\u001b[0m in \u001b[0;36m<cell line: 14>\u001b[0;34m()\u001b[0m\n\u001b[1;32m     15\u001b[0m   \u001b[0mg\u001b[0m \u001b[0;34m=\u001b[0m \u001b[0mgerar_grafo\u001b[0m\u001b[0;34m(\u001b[0m\u001b[0mi\u001b[0m\u001b[0;34m)\u001b[0m\u001b[0;34m\u001b[0m\u001b[0;34m\u001b[0m\u001b[0m\n\u001b[1;32m     16\u001b[0m   \u001b[0mprint\u001b[0m\u001b[0;34m(\u001b[0m\u001b[0mi\u001b[0m\u001b[0;34m)\u001b[0m \u001b[0;31m#Demora mais de 2 min para rodar com teste = 13, ou seja, um grafo com 13 vértices\u001b[0m\u001b[0;34m\u001b[0m\u001b[0;34m\u001b[0m\u001b[0m\n\u001b[0;32m---> 17\u001b[0;31m   \u001b[0mcaminho_ex\u001b[0m\u001b[0;34m,\u001b[0m \u001b[0mpeso_ex\u001b[0m\u001b[0;34m,\u001b[0m \u001b[0mtempo_ex\u001b[0m \u001b[0;34m=\u001b[0m \u001b[0mbusca_exaustiva\u001b[0m\u001b[0;34m(\u001b[0m\u001b[0mg\u001b[0m\u001b[0;34m,\u001b[0m\u001b[0;36m0\u001b[0m\u001b[0;34m,\u001b[0m\u001b[0mi\u001b[0m \u001b[0;34m-\u001b[0m \u001b[0;36m1\u001b[0m\u001b[0;34m)\u001b[0m\u001b[0;34m\u001b[0m\u001b[0;34m\u001b[0m\u001b[0m\n\u001b[0m\u001b[1;32m     18\u001b[0m   \u001b[0mprint\u001b[0m\u001b[0;34m(\u001b[0m\u001b[0mcaminho_ex\u001b[0m\u001b[0;34m,\u001b[0m\u001b[0mpeso_ex\u001b[0m\u001b[0;34m,\u001b[0m\u001b[0mtempo_ex\u001b[0m\u001b[0;34m)\u001b[0m\u001b[0;34m\u001b[0m\u001b[0;34m\u001b[0m\u001b[0m\n",
            "\u001b[0;32m<ipython-input-6-c0baa79c1003>\u001b[0m in \u001b[0;36mbusca_exaustiva\u001b[0;34m(grafo, vertice_inicial, vertice_final)\u001b[0m\n\u001b[1;32m     59\u001b[0m         \u001b[0;32mfor\u001b[0m \u001b[0melemento\u001b[0m \u001b[0;32min\u001b[0m \u001b[0mlista\u001b[0m\u001b[0;34m:\u001b[0m\u001b[0;34m\u001b[0m\u001b[0;34m\u001b[0m\u001b[0m\n\u001b[1;32m     60\u001b[0m             \u001b[0mnovos_elementos\u001b[0m \u001b[0;34m=\u001b[0m \u001b[0mexpandir_caminho\u001b[0m\u001b[0;34m(\u001b[0m\u001b[0mgrafo\u001b[0m\u001b[0;34m,\u001b[0m \u001b[0mvertice_final\u001b[0m\u001b[0;34m,\u001b[0m \u001b[0melemento\u001b[0m\u001b[0;34m[\u001b[0m\u001b[0;34m'caminho'\u001b[0m\u001b[0;34m]\u001b[0m\u001b[0;34m,\u001b[0m \u001b[0melemento\u001b[0m\u001b[0;34m[\u001b[0m\u001b[0;34m'comprimento'\u001b[0m\u001b[0;34m]\u001b[0m\u001b[0;34m)\u001b[0m\u001b[0;34m\u001b[0m\u001b[0;34m\u001b[0m\u001b[0m\n\u001b[0;32m---> 61\u001b[0;31m             \u001b[0mnova_lista\u001b[0m \u001b[0;34m+=\u001b[0m \u001b[0;34m[\u001b[0m\u001b[0;34m{\u001b[0m\u001b[0;34m'caminho'\u001b[0m\u001b[0;34m:\u001b[0m \u001b[0mcaminho\u001b[0m\u001b[0;34m,\u001b[0m \u001b[0;34m'comprimento'\u001b[0m\u001b[0;34m:\u001b[0m \u001b[0mcomprimento\u001b[0m\u001b[0;34m}\u001b[0m  \u001b[0;32mfor\u001b[0m \u001b[0mcaminho\u001b[0m\u001b[0;34m,\u001b[0m \u001b[0mcomprimento\u001b[0m \u001b[0;32min\u001b[0m \u001b[0mnovos_elementos\u001b[0m\u001b[0;34m]\u001b[0m\u001b[0;34m\u001b[0m\u001b[0;34m\u001b[0m\u001b[0m\n\u001b[0m\u001b[1;32m     62\u001b[0m \u001b[0;34m\u001b[0m\u001b[0m\n\u001b[1;32m     63\u001b[0m     \u001b[0;31m# Quando os caminhos não puderem mais ser expandidos, calcular o caminho\u001b[0m\u001b[0;34m\u001b[0m\u001b[0;34m\u001b[0m\u001b[0m\n",
            "\u001b[0;32m<ipython-input-6-c0baa79c1003>\u001b[0m in \u001b[0;36m<listcomp>\u001b[0;34m(.0)\u001b[0m\n\u001b[1;32m     59\u001b[0m         \u001b[0;32mfor\u001b[0m \u001b[0melemento\u001b[0m \u001b[0;32min\u001b[0m \u001b[0mlista\u001b[0m\u001b[0;34m:\u001b[0m\u001b[0;34m\u001b[0m\u001b[0;34m\u001b[0m\u001b[0m\n\u001b[1;32m     60\u001b[0m             \u001b[0mnovos_elementos\u001b[0m \u001b[0;34m=\u001b[0m \u001b[0mexpandir_caminho\u001b[0m\u001b[0;34m(\u001b[0m\u001b[0mgrafo\u001b[0m\u001b[0;34m,\u001b[0m \u001b[0mvertice_final\u001b[0m\u001b[0;34m,\u001b[0m \u001b[0melemento\u001b[0m\u001b[0;34m[\u001b[0m\u001b[0;34m'caminho'\u001b[0m\u001b[0;34m]\u001b[0m\u001b[0;34m,\u001b[0m \u001b[0melemento\u001b[0m\u001b[0;34m[\u001b[0m\u001b[0;34m'comprimento'\u001b[0m\u001b[0;34m]\u001b[0m\u001b[0;34m)\u001b[0m\u001b[0;34m\u001b[0m\u001b[0;34m\u001b[0m\u001b[0m\n\u001b[0;32m---> 61\u001b[0;31m             \u001b[0mnova_lista\u001b[0m \u001b[0;34m+=\u001b[0m \u001b[0;34m[\u001b[0m\u001b[0;34m{\u001b[0m\u001b[0;34m'caminho'\u001b[0m\u001b[0;34m:\u001b[0m \u001b[0mcaminho\u001b[0m\u001b[0;34m,\u001b[0m \u001b[0;34m'comprimento'\u001b[0m\u001b[0;34m:\u001b[0m \u001b[0mcomprimento\u001b[0m\u001b[0;34m}\u001b[0m  \u001b[0;32mfor\u001b[0m \u001b[0mcaminho\u001b[0m\u001b[0;34m,\u001b[0m \u001b[0mcomprimento\u001b[0m \u001b[0;32min\u001b[0m \u001b[0mnovos_elementos\u001b[0m\u001b[0;34m]\u001b[0m\u001b[0;34m\u001b[0m\u001b[0;34m\u001b[0m\u001b[0m\n\u001b[0m\u001b[1;32m     62\u001b[0m \u001b[0;34m\u001b[0m\u001b[0m\n\u001b[1;32m     63\u001b[0m     \u001b[0;31m# Quando os caminhos não puderem mais ser expandidos, calcular o caminho\u001b[0m\u001b[0;34m\u001b[0m\u001b[0;34m\u001b[0m\u001b[0m\n",
            "\u001b[0;31mKeyboardInterrupt\u001b[0m: "
          ]
        }
      ]
    },
    {
      "cell_type": "markdown",
      "source": [
        "### **Erro Heurística Gulosa** (Utilizando o grafo 2)\n"
      ],
      "metadata": {
        "id": "0BZSVCBpoWkC"
      }
    },
    {
      "cell_type": "code",
      "source": [
        "#Utilizando o grafo 2\n",
        "q, w, e = busca_exaustiva(grafo1,'A','D')\n",
        "v, b = dijkstra(grafo2, 'A')\n",
        "\n",
        "# Peso de A até D em dijkstra => v['D'][0]\n",
        "\n",
        "p_dj = v['D'][0]\n",
        "print(f'Peso heurística gulosa {w} e Peso Dijkstra {p_dj}, portanto heuristica gulosa erra')\n",
        "print(f'mas qual sua taxa de erro?')"
      ],
      "metadata": {
        "id": "m9k7dRwvodYi",
        "colab": {
          "base_uri": "https://localhost:8080/"
        },
        "outputId": "e3f18868-72d7-4f45-938e-16fa1b4ae557"
      },
      "execution_count": 20,
      "outputs": [
        {
          "output_type": "stream",
          "name": "stdout",
          "text": [
            "Peso heurística gulosa 4 e Peso Dijkstra 1.4, portanto heuristica gulosa erra\n",
            "mas qual sua taxa de erro?\n"
          ]
        }
      ]
    },
    {
      "cell_type": "markdown",
      "source": [
        "### **Média** para mensurar o **erro da heuristica gulosa**"
      ],
      "metadata": {
        "id": "RpV47pCkoMUq"
      }
    },
    {
      "cell_type": "code",
      "source": [
        "def gerar_grafo(i):\n",
        "    p = random.random() # porcentagem de arestas aleatória\n",
        "\n",
        "    grafo_abstr = nx.gnp_random_graph(i, p)\n",
        "    grafo = nx.to_dict_of_dicts(grafo_abstr)\n",
        "\n",
        "    for vertice in grafo:\n",
        "        for vizinho in grafo[vertice]:\n",
        "            grafo[vertice][vizinho] = random.randint(1, i) # pesos aleatórios\n",
        "\n",
        "    return grafo\n",
        "\n",
        "#Criação de váriaveis para armazenar os dados estatísticos do tempo\n",
        "porcentagens_de_acertos = []\n",
        "j = 0\n",
        "p = 0\n",
        "u = []\n",
        "total_acertos_tabela = []\n",
        "total_porcentagens_tabela = []\n",
        "f = 0 #indice de numero de vertices\n",
        "n_grafos = [3,4,5,7,10,25,50] #numero de grafos gerados\n",
        "for f in n_grafos:\n",
        "  for n in n_grafos:\n",
        "    for i in range(n):\n",
        "      u.append(gerar_grafo(n))\n",
        "    #Fazer um vetor que guarde todo o tempo de execução de dijkstra\n",
        "    peso_ultimo_vertice_djk = []\n",
        "\n",
        "    #aplicando dijkstra para os grafos\n",
        "    for i in range(len(u)):\n",
        "      d_dij, t_dij = dijkstra(u[i],list(u[i])[0])\n",
        "      if d_dij != None:\n",
        "        peso_ultimo_vertice_djk.append(d_dij[len(d_dij)-1][0])\n",
        "\n",
        "    #retirando a redundância e erro dos dados\n",
        "    itens_para_remover = [float('inf')]\n",
        "    peso_ultimo_vertice_djk = [item for item in peso_ultimo_vertice_djk if item not in itens_para_remover]\n",
        "\n",
        "    #aplicando a heuristica gulosa para os grafos\n",
        "    lista_tempo_gulosa = []\n",
        "    peso_gulosa = []\n",
        "    for i in range(len(u)):\n",
        "      d_gul, p_gul, tempo_gul = heuristica_gulosa(u[i],list(u[i])[0], len(u[i]) - 1)\n",
        "      peso_gulosa.append(p_gul)\n",
        "\n",
        "    #retirando a redundância e erro dos dados\n",
        "    itens_para_remover = [None]\n",
        "    peso_gulosa = [item for item in peso_gulosa if item not in itens_para_remover]\n",
        "    acertos = 0\n",
        "    for i in range(len(peso_gulosa)):\n",
        "      if math.isclose(peso_gulosa[i - 1], peso_ultimo_vertice_djk[i - 1], rel_tol=10**(-15)):\n",
        "        acertos += 1\n",
        "\n",
        "\n",
        "\n",
        "    taxa_acerto = round(abs((acertos)/len(peso_gulosa)),4)\n",
        "    porcentagens_de_acertos.append(round(abs(taxa_acerto*100),4))\n",
        "    total_acertos_tabela.append(acertos)"
      ],
      "metadata": {
        "id": "b7Kxk9YBWl6W"
      },
      "execution_count": 26,
      "outputs": []
    },
    {
      "cell_type": "markdown",
      "source": [
        "##### Criação de tabelas para varios valores"
      ],
      "metadata": {
        "id": "8950C0A04qDh"
      }
    },
    {
      "cell_type": "code",
      "source": [
        "num_grafos_vetor = []\n",
        "for j in n_grafos:\n",
        "  for k in range(len(n_grafos)):\n",
        "    num_grafos_vetor.append(j)\n",
        "\n",
        "num_vertices_vetor = []\n",
        "for j in range(len(n_grafos)):\n",
        "  for k in n_grafos:\n",
        "    num_vertices_vetor.append(k)\n",
        "# Cria um dicionário com os dados\n",
        "dados = {'index': num_grafos_vetor, 'num_grafos': num_grafos_vetor, 'acertos': total_acertos_tabela, 'taxa_acertos': porcentagens_de_acertos, 'num_vertices': num_vertices_vetor}\n",
        "\n",
        "# Converte o dicionário em uma tabela do Pandas\n",
        "tabela = pd.DataFrame(dados)\n",
        "\n",
        "# Define a primeira coluna como cabeçalho\n",
        "tabela = tabela.set_index('index')\n",
        "\n",
        "# Exibe a tabela\n",
        "print(tabela)"
      ],
      "metadata": {
        "id": "Ney7ksCpeMd9",
        "colab": {
          "base_uri": "https://localhost:8080/"
        },
        "outputId": "e59d6a3e-d22f-4aa7-e836-d8a15fb0a34f"
      },
      "execution_count": 27,
      "outputs": [
        {
          "output_type": "stream",
          "name": "stdout",
          "text": [
            "       num_grafos  acertos  taxa_acertos  num_vertices\n",
            "index                                                 \n",
            "3               3        2        100.00             3\n",
            "3               3        4        100.00             4\n",
            "3               3        4         80.00             5\n",
            "3               3        8         80.00             7\n",
            "3               3        9         60.00            10\n",
            "3               3       10         28.57            25\n",
            "3               3       10         12.66            50\n",
            "4               4       10         12.50             3\n",
            "4               4       10         12.20             4\n",
            "4               4       10         11.76             5\n",
            "4               4       10         10.99             7\n",
            "4               4       10         10.42            10\n",
            "4               4       11          9.48            25\n",
            "4               4       11          7.14            50\n",
            "5               5       12          7.69             3\n",
            "5               5       12          7.59             4\n",
            "5               5       11          6.92             5\n",
            "5               5       13          7.93             7\n",
            "5               5       12          7.02            10\n",
            "5               5       13          6.77            25\n",
            "5               5       13          5.53            50\n",
            "7               7       13          5.51             3\n",
            "7               7       14          5.88             4\n",
            "7               7       13          5.39             5\n",
            "7               7       14          5.71             7\n",
            "7               7       14          5.60            10\n",
            "7               7       14          5.20            25\n",
            "7               7       14          4.50            50\n",
            "10             10       15          4.78             3\n",
            "10             10       15          4.76             4\n",
            "10             10       15          4.72             5\n",
            "10             10       14          4.33             7\n",
            "10             10       15          4.57            10\n",
            "10             10       15          4.39            25\n",
            "10             10       15          3.91            50\n",
            "25             25       16          4.16             3\n",
            "25             25       16          4.13             4\n",
            "25             25       16          4.09             5\n",
            "25             25       16          4.04             7\n",
            "25             25       15          3.73            10\n",
            "25             25       15          3.56            25\n",
            "25             25       15          3.27            50\n",
            "50             50       16          3.46             3\n",
            "50             50       15          3.22             4\n",
            "50             50       15          3.21             5\n",
            "50             50       16          3.39             7\n",
            "50             50       15          3.16            10\n",
            "50             50       15          3.05            25\n",
            "50             50       15          2.79            50\n"
          ]
        }
      ]
    },
    {
      "cell_type": "markdown",
      "source": [],
      "metadata": {
        "id": "bjbyCzrGnPks"
      }
    },
    {
      "cell_type": "markdown",
      "source": [
        "#####Busca de **outliers**"
      ],
      "metadata": {
        "id": "ZW4KuWTEJ6YF"
      }
    },
    {
      "cell_type": "code",
      "source": [
        "# Calcular o IQR (Intervalo Interquartil)\n",
        "Q1 = tabela['taxa_acertos'].quantile(0.25)\n",
        "Q3 = tabela['taxa_acertos'].quantile(0.75)\n",
        "IQR = Q3 - Q1\n",
        "\n",
        "# Definir limites para identificar outliers\n",
        "limite_inferior = Q1 - 1.5 * IQR\n",
        "limite_superior = Q3 + 1.5 * IQR\n",
        "\n",
        "# Identificar outliers\n",
        "outliers = tabela[(tabela['taxa_acertos'] < limite_inferior) | (tabela['taxa_acertos'] > limite_superior)]\n",
        "\n",
        "# Exibir os outliers encontrados\n",
        "print(\"Outliers:\")\n",
        "print(outliers)\n",
        "\n"
      ],
      "metadata": {
        "id": "Asb1RNZrJ5Yu",
        "colab": {
          "base_uri": "https://localhost:8080/"
        },
        "outputId": "d92238f6-7dc0-4270-a86a-eba4980ae520"
      },
      "execution_count": 28,
      "outputs": [
        {
          "output_type": "stream",
          "name": "stdout",
          "text": [
            "Outliers:\n",
            "       num_grafos  acertos  taxa_acertos  num_vertices\n",
            "index                                                 \n",
            "3               3        2        100.00             3\n",
            "3               3        4        100.00             4\n",
            "3               3        4         80.00             5\n",
            "3               3        8         80.00             7\n",
            "3               3        9         60.00            10\n",
            "3               3       10         28.57            25\n"
          ]
        }
      ]
    },
    {
      "cell_type": "markdown",
      "source": [
        "##### Cálculo de média em relação a cada quantidade de grafos"
      ],
      "metadata": {
        "id": "yipDYHpB49R9"
      }
    },
    {
      "cell_type": "code",
      "source": [
        "#remoção de outliers\n",
        "num_grafos = n_grafos\n",
        "media_taxa_acertos_total = tabela\n",
        "for i in outliers['num_grafos']:\n",
        "  if i in num_grafos:\n",
        "    num_grafos.remove(i)\n",
        "  if i in media_taxa_acertos_total['num_grafos']:\n",
        "    media_taxa_acertos_total = media_taxa_acertos_total.drop(i) # Remoção dos outliers\n",
        "    media_total = media_taxa_acertos_total['taxa_acertos'].mean()\n",
        "print(f\"\\nMédia da taxa de acerto total: {media_total:.2f}\\n\\n\\n\")\n",
        "# Calcular média relativa a cada num_grafos\n",
        "media_relativa_num_grafos = media_taxa_acertos_total.groupby('num_grafos')['taxa_acertos'].mean()\n",
        "valores_media = media_relativa_num_grafos.values\n",
        "valores = []\n",
        "for i in valores_media:\n",
        "  valores.append(i)\n",
        "#Criação da tabela com médias\n",
        "dados_tabela_ng_medias = {'num_grafos': num_grafos, 'medias_acertos': valores}\n",
        "tabela_ng_medias = pd.DataFrame(dados_tabela_ng_medias)\n",
        "plt.scatter(dados_tabela_ng_medias['num_grafos'],dados_tabela_ng_medias['medias_acertos'], color = 'blue')\n",
        "print(f'\\n{tabela_ng_medias.to_string(index=False)}')"
      ],
      "metadata": {
        "id": "3Xr0RF6MQeaJ",
        "colab": {
          "base_uri": "https://localhost:8080/",
          "height": 661
        },
        "outputId": "28d5f615-a5a1-4c25-fffa-269e7f1ff9e2"
      },
      "execution_count": 29,
      "outputs": [
        {
          "output_type": "stream",
          "name": "stdout",
          "text": [
            "\n",
            "Média da taxa de acerto total: 5.77\n",
            "\n",
            "\n",
            "\n",
            "\n",
            " num_grafos  medias_acertos\n",
            "          4       10.641429\n",
            "          5        7.064286\n",
            "          7        5.398571\n",
            "         10        4.494286\n",
            "         25        3.854286\n",
            "         50        3.182857\n"
          ]
        },
        {
          "output_type": "display_data",
          "data": {
            "text/plain": [
              "<Figure size 640x480 with 1 Axes>"
            ],
            "image/png": "[encoded data removed]"
          },
          "metadata": {}
        }
      ]
    },
    {
      "cell_type": "markdown",
      "source": [
        "### **Estatística** (Em relação do Erro da Heurística Gulosa)"
      ],
      "metadata": {
        "id": "kfZv2NeGoTBS"
      }
    },
    {
      "cell_type": "markdown",
      "source": [
        "##### Regressão linear **num_grafos x taxa_acertos**"
      ],
      "metadata": {
        "id": "sQqG5W3k8f9Z"
      }
    },
    {
      "cell_type": "code",
      "source": [
        "# Extrair os dados relevantes\n",
        "x = tabela['num_grafos']\n",
        "y = tabela['taxa_acertos']\n",
        "\n",
        "# Calcular a regressão linear usando o método dos mínimos quadrados\n",
        "# Utilizamos grau 6 pois o vetor tem tamanho 7 e não há distorção do comportamento da função\n",
        "coeficientes = np.polyfit(x, y, 6)\n",
        "\n",
        "# Criar a linha de melhor ajuste\n",
        "linha_regressao = np.polyval(coeficientes, x)\n",
        "\n",
        "# Criar um gráfico de dispersão\n",
        "plt.scatter(x, y, label='Pontos Originais')\n",
        "plt.plot(x, linha_regressao, color='red', label='Regressão Linear')\n",
        "\n",
        "# Adicionar rótulos aos eixos\n",
        "plt.xlabel('Número de Grafos')\n",
        "plt.ylabel('Taxa de Acertos')\n",
        "\n",
        "# Adicionar um título ao gráfico\n",
        "plt.title('Regressão Linear entre Número de Grafos e Taxa de Acertos')\n",
        "\n",
        "# Adicionar uma legenda\n",
        "plt.legend()\n",
        "\n",
        "# Exibir o gráfico\n",
        "plt.show()"
      ],
      "metadata": {
        "id": "UN8P_HLd8eya",
        "colab": {
          "base_uri": "https://localhost:8080/",
          "height": 472
        },
        "outputId": "6bdefc39-b809-423b-b0e5-923c33fe681e"
      },
      "execution_count": 30,
      "outputs": [
        {
          "output_type": "display_data",
          "data": {
            "text/plain": [
              "<Figure size 640x480 with 1 Axes>"
            ],
            "image/png": "[encoded data removed]"
          },
          "metadata": {}
        }
      ]
    },
    {
      "cell_type": "markdown",
      "source": [
        "##### Correlação **acertos x num_vertices**"
      ],
      "metadata": {
        "id": "bI7mHXtg4g9i"
      }
    },
    {
      "cell_type": "code",
      "source": [
        "dados_correlacao = {'num_grafos': num_grafos_vetor, 'acertos': total_acertos_tabela, 'taxa_acertos': porcentagens_de_acertos, 'num_vertices': num_vertices_vetor}\n",
        "\n",
        "# Converte o dicionário em uma tabela do Pandas\n",
        "tabela_vertices_acertos = pd.DataFrame(dados_correlacao)\n",
        "\n",
        "# Define a primeira coluna como cabeçalho\n",
        "tabela_vertices_acertos = tabela.set_index('num_grafos')\n",
        "lista_correlacoes = []\n",
        "for n in num_grafos:\n",
        "  dados_filtrados = tabela_vertices_acertos[tabela_vertices_acertos.index == n]\n",
        "  correlacao_filtrada = dados_filtrados['num_vertices'].corr(dados_filtrados['acertos'])\n",
        "  lista_correlacoes.append(correlacao_filtrada)\n",
        "\n",
        "a = 0\n",
        "for n in n_grafos:\n",
        "  if lista_correlacoes[a] == max(lista_correlacoes):\n",
        "    print(f'\\nMaior correlação foi para {n} vértices com uma correlação de: {max(lista_correlacoes)}')\n",
        "  if lista_correlacoes[a] == min(lista_correlacoes):\n",
        "    print(f'\\nMenor correlação foi para {n} vértices com uma correlação de: {min(lista_correlacoes)}')\n",
        "  a+=1\n",
        "\n",
        "correlacao_total = tabela_vertices_acertos['num_vertices'].corr(tabela_vertices_acertos['acertos'])\n",
        "print(f'\\ncorrelação total {correlacao_total}')\n",
        "\n",
        "#Correlação fraca em alguns numeros de vértices e Correlação forte em outros, portanto inconclusivo."
      ],
      "metadata": {
        "id": "MyjG0X2B54mm",
        "colab": {
          "base_uri": "https://localhost:8080/"
        },
        "outputId": "491a2d06-0847-4f65-8963-0ef24191f174"
      },
      "execution_count": 32,
      "outputs": [
        {
          "output_type": "stream",
          "name": "stdout",
          "text": [
            "\n",
            "Maior correlação foi para 4 vértices com uma correlação de: 0.8983378662509169\n",
            "\n",
            "Menor correlação foi para 25 vértices com uma correlação de: -0.7321098609394961\n",
            "\n",
            "correlação total 0.1194022965959372\n"
          ]
        }
      ]
    },
    {
      "cell_type": "markdown",
      "source": [
        "### Discussões dos resultados\n"
      ],
      "metadata": {
        "id": "0linC7e0ZzOK"
      }
    },
    {
      "cell_type": "markdown",
      "source": [
        "Foi possivel verificar alguns fatos interessantes, primeiro, a quantidade de arestas pode não impactar na quantidade de acertos e o que mais parece influenciar é a quantidade de grafos utilizados, isso pode decorrer do peso ser aleatório e quanto mais grafos mais aleatórios seriam os pesos, porem não podemos afirmar nada. Apenas uma inferencia de que a quantidade de grafos influencia de alguma maneira em uma menor taxa de acerto.\n",
        "\n",
        "Fora isso também foi feito um estudo para verificar a correlação das variaveis que provou o ponto já dito.\n",
        "\n",
        "Na primeira parte conseguimos verificar a diferença de tempo entre a heuristica gulosa e o algoritmo de dijkstra e é possivel ver que a heurística leva um tempo menor, porém é imprecisa. (como demonstrada na segunda parte do experimento)"
      ],
      "metadata": {
        "id": "-RYYBTmaZ40A"
      }
    },
    {
      "cell_type": "markdown",
      "source": [
        "---\n",
        "TODOs:\n",
        "\n",
        "* João:\n",
        "    - ajustar a apresentação dos resultados\n",
        "    - ver quais bibliotecas estão sendo realmente usadas\n",
        "\n",
        "* Rodrigo:\n",
        "    - tentar terminar a `Heurística Gulosa` (ver FIXME e TODO)\n",
        "\n",
        "* Rodrigo + João:\n",
        "    - revisar de forma crítica o Colab e o tex\n",
        "    - postar o pdf e o Colab no Github\n",
        "    - colocar o link para o pdf no começo do Colab\n",
        "    - colocar o nome do repositório nas referências do tex\n"
      ],
      "metadata": {
        "id": "qB2uNScbV8lG"
      }
    },
    {
      "cell_type": "code",
      "execution_count": null,
      "metadata": {
        "id": "Yvu-wZ90Q0Vj"
      },
      "outputs": [],
      "source": [
        "####################\n",
        "###  RECICLÁVEL  ###\n",
        "####################\n",
        "\n",
        "\n",
        "def vizinhos_do_grafo(grafo):\n",
        "  \"\"\"\n",
        "  Essa função tem como ideia pegar todos os vizinhos de todos os nós para verificar se\n",
        "  tem algum nó que não está conectado a nenhum outro vértice.\n",
        "\n",
        "  Parâmetros:\n",
        "    - grafo (dict): Dicionário de adjacências que representa o grafo\n",
        "      ponderado. As chaves são os vértices do grafo e os valores são\n",
        "      dicionários, cujas chaves são os vizinhos e os valores são os pesos das\n",
        "      arestas que ligam os vértices.\n",
        "  Saída:\n",
        "    - lista com todas as adjascencias do grafo\n",
        "\n",
        "  Complexidade:\n",
        "      O(|V| + |E|), onde |V| é o número de vértices e |E| é o número de arestas.\n",
        "    \"\"\"\n",
        "\n",
        "  lista_adjascencia = []\n",
        "  for no in grafo.values():\n",
        "      lista_adjascencia.extend(no.keys())\n",
        "\n",
        "  return lista_adjascencia\n"
      ]
    }
  ],
  "metadata": {
    "colab": {
      "provenance": []
    },
    "kernelspec": {
      "display_name": "Python 3",
      "name": "python3"
    },
    "language_info": {
      "name": "python"
    }
  },
  "nbformat": 4,
  "nbformat_minor": 0
}